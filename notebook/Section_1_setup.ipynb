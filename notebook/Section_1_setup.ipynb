{
 "cells": [
  {
   "cell_type": "markdown",
   "metadata": {},
   "source": [
    "# Environment Setup\n",
    " \n",
    "Before running any scripts in this case study, ensure you have completed the following setup steps:\n",
    " \n",
    "## Prerequisites\n",
    "- Python 3.8 or higher installed on your system\n",
    " \n",
    "## Environment Setup\n",
    " \n",
    "1. Create and activate a virtual environment:\n",
    "```bash\n",
    "# Create virtual environment\n",
    "python -m venv .venv\n",
    " \n",
    "# Activate virtual environment\n",
    "# On Windows\n",
    ".venv\\Scripts\\activate\n",
    "# On Unix/MacOS\n",
    "source .venv/bin/activate\n",
    "```\n",
    " \n",
    "2. Install dependencies:\n",
    "```bash\n",
    "pip install -r requirements.txt\n",
    "```\n",
    " \n",
    "3. Set Python Path:\n",
    "```bash\n",
    "# Add project root to PYTHONPATH\n",
    "export PYTHONPATH=\"${PYTHONPATH}:$(pwd)\"\n",
    "```\n",
    " \n",
    "4. Verify Project Root:\n",
    "```bash\n",
    "# Verify you're in the project root directory\n",
    "pwd\n",
    "# Should show path ending with your project name\n",
    "```\n",
    " \n",
    "---\n",
    "After completing these setup steps, you can proceed with running the specific scripts as detailed in their respective documentation."
   ]
  },
  {
   "cell_type": "markdown",
   "metadata": {},
   "source": []
  }
 ],
 "metadata": {
  "kernelspec": {
   "display_name": "Python 3",
   "language": "python",
   "name": "python3"
  },
  "language_info": {
   "codemirror_mode": {
    "name": "ipython",
    "version": 3
   },
   "file_extension": ".py",
   "mimetype": "text/x-python",
   "name": "python",
   "nbconvert_exporter": "python",
   "pygments_lexer": "ipython3",
   "version": "3.11.8"
  }
 },
 "nbformat": 4,
 "nbformat_minor": 2
}
